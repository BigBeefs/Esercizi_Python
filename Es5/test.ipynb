{
 "cells": [
  {
   "cell_type": "code",
   "execution_count": 8,
   "metadata": {},
   "outputs": [],
   "source": [
    "import pandas as pd\n",
    "import streamlit as st\n",
    "import numpy as np\n",
    "import openpyxl \n",
    "import os\n"
   ]
  },
  {
   "cell_type": "code",
   "execution_count": 9,
   "metadata": {},
   "outputs": [
    {
     "data": {
      "text/html": [
       "<div>\n",
       "<style scoped>\n",
       "    .dataframe tbody tr th:only-of-type {\n",
       "        vertical-align: middle;\n",
       "    }\n",
       "\n",
       "    .dataframe tbody tr th {\n",
       "        vertical-align: top;\n",
       "    }\n",
       "\n",
       "    .dataframe thead th {\n",
       "        text-align: right;\n",
       "    }\n",
       "</style>\n",
       "<table border=\"1\" class=\"dataframe\">\n",
       "  <thead>\n",
       "    <tr style=\"text-align: right;\">\n",
       "      <th></th>\n",
       "      <th>ITTER107</th>\n",
       "      <th>Territorio</th>\n",
       "      <th>TIPO_DATO_CENERG</th>\n",
       "      <th>Tipo dato</th>\n",
       "      <th>DOTAZIONI_A</th>\n",
       "      <th>Fonte alimentazione</th>\n",
       "      <th>TIME</th>\n",
       "      <th>Seleziona periodo</th>\n",
       "      <th>Value</th>\n",
       "      <th>Flag Codes</th>\n",
       "      <th>Flags</th>\n",
       "    </tr>\n",
       "  </thead>\n",
       "  <tbody>\n",
       "    <tr>\n",
       "      <th>0</th>\n",
       "      <td>IT</td>\n",
       "      <td>Italia</td>\n",
       "      <td>ENER_SOUR_EXP</td>\n",
       "      <td>spese delle famiglie per consumi energetici pe...</td>\n",
       "      <td>ALL</td>\n",
       "      <td>tutte le voci</td>\n",
       "      <td>2013</td>\n",
       "      <td>2013</td>\n",
       "      <td>42302968.0</td>\n",
       "      <td>NaN</td>\n",
       "      <td>NaN</td>\n",
       "    </tr>\n",
       "    <tr>\n",
       "      <th>1</th>\n",
       "      <td>IT</td>\n",
       "      <td>Italia</td>\n",
       "      <td>ENER_SOUR_EXP</td>\n",
       "      <td>spese delle famiglie per consumi energetici pe...</td>\n",
       "      <td>H_OIL</td>\n",
       "      <td>gasolio</td>\n",
       "      <td>2013</td>\n",
       "      <td>2013</td>\n",
       "      <td>1694455.0</td>\n",
       "      <td>NaN</td>\n",
       "      <td>NaN</td>\n",
       "    </tr>\n",
       "    <tr>\n",
       "      <th>2</th>\n",
       "      <td>IT</td>\n",
       "      <td>Italia</td>\n",
       "      <td>ENER_SOUR_EXP</td>\n",
       "      <td>spese delle famiglie per consumi energetici pe...</td>\n",
       "      <td>LPG</td>\n",
       "      <td>Gpl (Gas Petrolio Liquefatto)</td>\n",
       "      <td>2013</td>\n",
       "      <td>2013</td>\n",
       "      <td>2437978.0</td>\n",
       "      <td>NaN</td>\n",
       "      <td>NaN</td>\n",
       "    </tr>\n",
       "    <tr>\n",
       "      <th>3</th>\n",
       "      <td>IT</td>\n",
       "      <td>Italia</td>\n",
       "      <td>ENER_SOUR_EXP</td>\n",
       "      <td>spese delle famiglie per consumi energetici pe...</td>\n",
       "      <td>ELECTR</td>\n",
       "      <td>energia elettrica</td>\n",
       "      <td>2013</td>\n",
       "      <td>2013</td>\n",
       "      <td>15035032.0</td>\n",
       "      <td>NaN</td>\n",
       "      <td>NaN</td>\n",
       "    </tr>\n",
       "    <tr>\n",
       "      <th>4</th>\n",
       "      <td>IT</td>\n",
       "      <td>Italia</td>\n",
       "      <td>ENER_SOUR_EXP</td>\n",
       "      <td>spese delle famiglie per consumi energetici pe...</td>\n",
       "      <td>METAN</td>\n",
       "      <td>metano</td>\n",
       "      <td>2013</td>\n",
       "      <td>2013</td>\n",
       "      <td>21080936.0</td>\n",
       "      <td>NaN</td>\n",
       "      <td>NaN</td>\n",
       "    </tr>\n",
       "    <tr>\n",
       "      <th>...</th>\n",
       "      <td>...</td>\n",
       "      <td>...</td>\n",
       "      <td>...</td>\n",
       "      <td>...</td>\n",
       "      <td>...</td>\n",
       "      <td>...</td>\n",
       "      <td>...</td>\n",
       "      <td>...</td>\n",
       "      <td>...</td>\n",
       "      <td>...</td>\n",
       "      <td>...</td>\n",
       "    </tr>\n",
       "    <tr>\n",
       "      <th>296</th>\n",
       "      <td>ITG2</td>\n",
       "      <td>Sardegna</td>\n",
       "      <td>ENER_SOUR_EXP_AV</td>\n",
       "      <td>spesa media effettiva delle famiglie per consu...</td>\n",
       "      <td>H_OIL</td>\n",
       "      <td>gasolio</td>\n",
       "      <td>2013</td>\n",
       "      <td>2013</td>\n",
       "      <td>1137.0</td>\n",
       "      <td>NaN</td>\n",
       "      <td>NaN</td>\n",
       "    </tr>\n",
       "    <tr>\n",
       "      <th>297</th>\n",
       "      <td>ITG2</td>\n",
       "      <td>Sardegna</td>\n",
       "      <td>ENER_SOUR_EXP_AV</td>\n",
       "      <td>spesa media effettiva delle famiglie per consu...</td>\n",
       "      <td>LPG</td>\n",
       "      <td>Gpl (Gas Petrolio Liquefatto)</td>\n",
       "      <td>2013</td>\n",
       "      <td>2013</td>\n",
       "      <td>382.0</td>\n",
       "      <td>NaN</td>\n",
       "      <td>NaN</td>\n",
       "    </tr>\n",
       "    <tr>\n",
       "      <th>298</th>\n",
       "      <td>ITG2</td>\n",
       "      <td>Sardegna</td>\n",
       "      <td>ENER_SOUR_EXP_AV</td>\n",
       "      <td>spesa media effettiva delle famiglie per consu...</td>\n",
       "      <td>ELECTR</td>\n",
       "      <td>energia elettrica</td>\n",
       "      <td>2013</td>\n",
       "      <td>2013</td>\n",
       "      <td>753.0</td>\n",
       "      <td>NaN</td>\n",
       "      <td>NaN</td>\n",
       "    </tr>\n",
       "    <tr>\n",
       "      <th>299</th>\n",
       "      <td>ITG2</td>\n",
       "      <td>Sardegna</td>\n",
       "      <td>ENER_SOUR_EXP_AV</td>\n",
       "      <td>spesa media effettiva delle famiglie per consu...</td>\n",
       "      <td>FIREWOOD</td>\n",
       "      <td>legna</td>\n",
       "      <td>2013</td>\n",
       "      <td>2013</td>\n",
       "      <td>470.0</td>\n",
       "      <td>NaN</td>\n",
       "      <td>NaN</td>\n",
       "    </tr>\n",
       "    <tr>\n",
       "      <th>300</th>\n",
       "      <td>ITG2</td>\n",
       "      <td>Sardegna</td>\n",
       "      <td>ENER_SOUR_EXP_AV</td>\n",
       "      <td>spesa media effettiva delle famiglie per consu...</td>\n",
       "      <td>PELLETS</td>\n",
       "      <td>pellets</td>\n",
       "      <td>2013</td>\n",
       "      <td>2013</td>\n",
       "      <td>418.0</td>\n",
       "      <td>NaN</td>\n",
       "      <td>NaN</td>\n",
       "    </tr>\n",
       "  </tbody>\n",
       "</table>\n",
       "<p>301 rows × 11 columns</p>\n",
       "</div>"
      ],
      "text/plain": [
       "    ITTER107 Territorio  TIPO_DATO_CENERG  \\\n",
       "0         IT     Italia     ENER_SOUR_EXP   \n",
       "1         IT     Italia     ENER_SOUR_EXP   \n",
       "2         IT     Italia     ENER_SOUR_EXP   \n",
       "3         IT     Italia     ENER_SOUR_EXP   \n",
       "4         IT     Italia     ENER_SOUR_EXP   \n",
       "..       ...        ...               ...   \n",
       "296     ITG2   Sardegna  ENER_SOUR_EXP_AV   \n",
       "297     ITG2   Sardegna  ENER_SOUR_EXP_AV   \n",
       "298     ITG2   Sardegna  ENER_SOUR_EXP_AV   \n",
       "299     ITG2   Sardegna  ENER_SOUR_EXP_AV   \n",
       "300     ITG2   Sardegna  ENER_SOUR_EXP_AV   \n",
       "\n",
       "                                             Tipo dato DOTAZIONI_A  \\\n",
       "0    spese delle famiglie per consumi energetici pe...         ALL   \n",
       "1    spese delle famiglie per consumi energetici pe...       H_OIL   \n",
       "2    spese delle famiglie per consumi energetici pe...         LPG   \n",
       "3    spese delle famiglie per consumi energetici pe...      ELECTR   \n",
       "4    spese delle famiglie per consumi energetici pe...       METAN   \n",
       "..                                                 ...         ...   \n",
       "296  spesa media effettiva delle famiglie per consu...       H_OIL   \n",
       "297  spesa media effettiva delle famiglie per consu...         LPG   \n",
       "298  spesa media effettiva delle famiglie per consu...      ELECTR   \n",
       "299  spesa media effettiva delle famiglie per consu...    FIREWOOD   \n",
       "300  spesa media effettiva delle famiglie per consu...     PELLETS   \n",
       "\n",
       "               Fonte alimentazione  TIME  Seleziona periodo       Value  \\\n",
       "0                    tutte le voci  2013               2013  42302968.0   \n",
       "1                          gasolio  2013               2013   1694455.0   \n",
       "2    Gpl (Gas Petrolio Liquefatto)  2013               2013   2437978.0   \n",
       "3                energia elettrica  2013               2013  15035032.0   \n",
       "4                           metano  2013               2013  21080936.0   \n",
       "..                             ...   ...                ...         ...   \n",
       "296                        gasolio  2013               2013      1137.0   \n",
       "297  Gpl (Gas Petrolio Liquefatto)  2013               2013       382.0   \n",
       "298              energia elettrica  2013               2013       753.0   \n",
       "299                          legna  2013               2013       470.0   \n",
       "300                        pellets  2013               2013       418.0   \n",
       "\n",
       "    Flag Codes Flags  \n",
       "0          NaN   NaN  \n",
       "1          NaN   NaN  \n",
       "2          NaN   NaN  \n",
       "3          NaN   NaN  \n",
       "4          NaN   NaN  \n",
       "..         ...   ...  \n",
       "296        NaN   NaN  \n",
       "297        NaN   NaN  \n",
       "298        NaN   NaN  \n",
       "299        NaN   NaN  \n",
       "300        NaN   NaN  \n",
       "\n",
       "[301 rows x 11 columns]"
      ]
     },
     "execution_count": 9,
     "metadata": {},
     "output_type": "execute_result"
    }
   ],
   "source": [
    "df = pd.read_csv('energia.csv')\n",
    "df"
   ]
  },
  {
   "cell_type": "code",
   "execution_count": 68,
   "metadata": {},
   "outputs": [
    {
     "data": {
      "text/plain": [
       "0        Italia\n",
       "1        Italia\n",
       "2        Italia\n",
       "3        Italia\n",
       "4        Italia\n",
       "         ...   \n",
       "296    Sardegna\n",
       "297    Sardegna\n",
       "298    Sardegna\n",
       "299    Sardegna\n",
       "300    Sardegna\n",
       "Name: Territorio, Length: 301, dtype: object"
      ]
     },
     "execution_count": 68,
     "metadata": {},
     "output_type": "execute_result"
    }
   ],
   "source": [
    "df.Territorio"
   ]
  },
  {
   "cell_type": "code",
   "execution_count": 18,
   "metadata": {},
   "outputs": [
    {
     "data": {
      "text/plain": [
       "0        Italia\n",
       "1        Italia\n",
       "2        Italia\n",
       "3        Italia\n",
       "4        Italia\n",
       "         ...   \n",
       "296    Sardegna\n",
       "297    Sardegna\n",
       "298    Sardegna\n",
       "299    Sardegna\n",
       "300    Sardegna\n",
       "Name: Territorio, Length: 301, dtype: object"
      ]
     },
     "execution_count": 18,
     "metadata": {},
     "output_type": "execute_result"
    }
   ],
   "source": [
    "dfTerr = df.Territorio\n",
    "dfTerr"
   ]
  },
  {
   "cell_type": "code",
   "execution_count": null,
   "metadata": {},
   "outputs": [],
   "source": [
    "df.loc[df['Territorio'] == 'Italia']"
   ]
  },
  {
   "cell_type": "code",
   "execution_count": null,
   "metadata": {},
   "outputs": [],
   "source": [
    "# j=\"Valle d'Aosta\"\n",
    "# j=j.replace(\"'\", \" \")\n",
    "# dfItalia=df.loc[df['Territorio'] == \"Valle d'Aosta\"]\n",
    "# dfItalia.to_csv('file/file_csv/'+j+'.csv',sep=\"\\t\")\n",
    "# j"
   ]
  },
  {
   "cell_type": "code",
   "execution_count": null,
   "metadata": {},
   "outputs": [],
   "source": [
    "# for i in dfTerr:\n",
    "#     dfState=df.loc[df['Territorio'] == i]\n",
    "#     i=i.replace(\"'\", \" \")\n",
    "#     i=i.replace(\"/\", \" \")\n",
    "#     dfState.to_csv(\"file/file_csv/\"+i+\".csv\",sep=\"\\t\")"
   ]
  },
  {
   "cell_type": "code",
   "execution_count": null,
   "metadata": {},
   "outputs": [],
   "source": [
    "type(i)"
   ]
  },
  {
   "cell_type": "code",
   "execution_count": null,
   "metadata": {},
   "outputs": [],
   "source": [
    "type(dfItalia)"
   ]
  },
  {
   "cell_type": "code",
   "execution_count": null,
   "metadata": {},
   "outputs": [],
   "source": [
    "df.index.__len__()\n",
    "type(df.index.__len__())"
   ]
  },
  {
   "cell_type": "code",
   "execution_count": null,
   "metadata": {},
   "outputs": [],
   "source": [
    "type(dfTerr)"
   ]
  },
  {
   "cell_type": "code",
   "execution_count": null,
   "metadata": {},
   "outputs": [],
   "source": [
    "dfTerr.__len__"
   ]
  },
  {
   "cell_type": "code",
   "execution_count": null,
   "metadata": {},
   "outputs": [],
   "source": [
    "df1 =df.groupby('Territorio')\n",
    "df1.first()\n"
   ]
  },
  {
   "cell_type": "code",
   "execution_count": 19,
   "metadata": {},
   "outputs": [],
   "source": [
    "for i in dfTerr:\n",
    "    dfState=df.loc[df['Territorio'] == i]\n",
    "    i=i.replace(\"'\", \" \")\n",
    "    i=i.replace(\"/\", \" \")\n",
    "    dfState.to_excel(\"file/file_xlsx/\"+i+\".xlsx\")"
   ]
  },
  {
   "attachments": {},
   "cell_type": "markdown",
   "metadata": {},
   "source": []
  },
  {
   "cell_type": "code",
   "execution_count": 39,
   "metadata": {},
   "outputs": [],
   "source": [
    "dir = 'file/file_csv'\n",
    "for file in os.scandir(dir):\n",
    "    os.remove(file.path)"
   ]
  },
  {
   "cell_type": "code",
   "execution_count": 13,
   "metadata": {},
   "outputs": [
    {
     "ename": "FileNotFoundError",
     "evalue": "[WinError 2] Impossibile trovare il file specificato: 'Italia.csv'",
     "output_type": "error",
     "traceback": [
      "\u001b[1;31m---------------------------------------------------------------------------\u001b[0m",
      "\u001b[1;31mFileNotFoundError\u001b[0m                         Traceback (most recent call last)",
      "Cell \u001b[1;32mIn[13], line 6\u001b[0m\n\u001b[0;32m      4\u001b[0m i\u001b[39m=\u001b[39mi\u001b[39m.\u001b[39mreplace(\u001b[39m\"\u001b[39m\u001b[39m \u001b[39m\u001b[39m\"\u001b[39m, \u001b[39m\"\u001b[39m\u001b[39m_\u001b[39m\u001b[39m\"\u001b[39m)\n\u001b[0;32m      5\u001b[0m i\u001b[39m=\u001b[39mi\u001b[39m.\u001b[39mreplace(\u001b[39m\"\u001b[39m\u001b[39m-\u001b[39m\u001b[39m\"\u001b[39m, \u001b[39m\"\u001b[39m\u001b[39m_\u001b[39m\u001b[39m\"\u001b[39m)\n\u001b[1;32m----> 6\u001b[0m os\u001b[39m.\u001b[39;49mremove(i\u001b[39m+\u001b[39;49m\u001b[39m\"\u001b[39;49m\u001b[39m.csv\u001b[39;49m\u001b[39m\"\u001b[39;49m)\n",
      "\u001b[1;31mFileNotFoundError\u001b[0m: [WinError 2] Impossibile trovare il file specificato: 'Italia.csv'"
     ]
    }
   ],
   "source": [
    "for i in df.Territorio:\n",
    "        i=i.replace(\"'\", \"\")\n",
    "        i=i.replace(\"/\", \"\")\n",
    "        i=i.replace(\" \", \"_\")\n",
    "        i=i.replace(\"-\", \"_\")\n",
    "        os.remove(\"file/file_xlsx/\"+i+\".csv\")"
   ]
  }
 ],
 "metadata": {
  "kernelspec": {
   "display_name": "Python 3",
   "language": "python",
   "name": "python3"
  },
  "language_info": {
   "codemirror_mode": {
    "name": "ipython",
    "version": 3
   },
   "file_extension": ".py",
   "mimetype": "text/x-python",
   "name": "python",
   "nbconvert_exporter": "python",
   "pygments_lexer": "ipython3",
   "version": "3.10.10"
  },
  "orig_nbformat": 4
 },
 "nbformat": 4,
 "nbformat_minor": 2
}
