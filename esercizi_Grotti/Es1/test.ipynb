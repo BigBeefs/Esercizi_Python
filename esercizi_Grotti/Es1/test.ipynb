{
 "cells": [
  {
   "cell_type": "code",
   "execution_count": 5,
   "metadata": {},
   "outputs": [],
   "source": [
    "import streamlit as st\n",
    "import pandas as pd\n",
    "import datetime as dt\n",
    "from datetime import timedelta\n",
    "\n"
   ]
  },
  {
   "cell_type": "code",
   "execution_count": 6,
   "metadata": {},
   "outputs": [
    {
     "name": "stdout",
     "output_type": "stream",
     "text": [
      "2\n"
     ]
    }
   ],
   "source": [
    "import datetime\n",
    "dob = datetime.date(2021, 3, 30)\n",
    "\n",
    "def age():\n",
    "    today = datetime.date.today()\n",
    "    years = today.year - dob.year\n",
    "    if today.month < dob.month or (today.month == dob.month and today.day < dob.day):\n",
    "        years -= 1\n",
    "    return years\n",
    "\n",
    "def age2():\n",
    "    today = datetime.date.today()\n",
    "    this_year_birthday = datetime.date(today.year, dob.month, dob.day)\n",
    "    if this_year_birthday < today:\n",
    "        years = today.year - dob.year\n",
    "    else:\n",
    "        years = today.year - dob.year - 1\n",
    "    return years\n",
    "\n",
    "print(age())"
   ]
  },
  {
   "cell_type": "code",
   "execution_count": 6,
   "metadata": {},
   "outputs": [
    {
     "data": {
      "text/plain": [
       "datetime.date(2004, 3, 31)"
      ]
     },
     "execution_count": 6,
     "metadata": {},
     "output_type": "execute_result"
    }
   ],
   "source": [
    "x = dt.date(2004, 3, 31)\n",
    "delta =  dt.date.today() - timedelta(6939)\n",
    "delta"
   ]
  },
  {
   "cell_type": "code",
   "execution_count": null,
   "metadata": {},
   "outputs": [],
   "source": []
  }
 ],
 "metadata": {
  "kernelspec": {
   "display_name": "Python 3",
   "language": "python",
   "name": "python3"
  },
  "language_info": {
   "codemirror_mode": {
    "name": "ipython",
    "version": 3
   },
   "file_extension": ".py",
   "mimetype": "text/x-python",
   "name": "python",
   "nbconvert_exporter": "python",
   "pygments_lexer": "ipython3",
   "version": "3.10.10"
  },
  "orig_nbformat": 4
 },
 "nbformat": 4,
 "nbformat_minor": 2
}
