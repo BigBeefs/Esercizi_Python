{
 "cells": [
  {
   "cell_type": "code",
   "execution_count": 1,
   "metadata": {},
   "outputs": [],
   "source": [
    "import streamlit as st\n",
    "import pandas as pd"
   ]
  },
  {
   "cell_type": "code",
   "execution_count": 10,
   "metadata": {},
   "outputs": [],
   "source": [
    "numb1=1\n",
    "numb2=1\n",
    "numb3=1"
   ]
  },
  {
   "cell_type": "code",
   "execution_count": 11,
   "metadata": {},
   "outputs": [
    {
     "name": "stdout",
     "output_type": "stream",
     "text": [
      "\" 1 \" è il numero più grande, \" 1 \" è il numero più piccolo\n"
     ]
    }
   ],
   "source": [
    "if numb1>=numb2 and numb1>=numb3 and numb2<=numb3:\n",
    "    print('\"',numb1,'\" è il numero più grande, \"',numb2,'\" è il numero più piccolo')"
   ]
  },
  {
   "cell_type": "code",
   "execution_count": null,
   "metadata": {},
   "outputs": [],
   "source": [
    "if numb1>=numb2 and numb1>=numb3 and numb3<=numb2:\n",
    "    print('\"',numb1,'\" è il numero più grande, \"',numb3,'\" è il numero più piccolo')"
   ]
  },
  {
   "cell_type": "code",
   "execution_count": null,
   "metadata": {},
   "outputs": [],
   "source": [
    "if numb2>=numb1 and numb2>=numb3 and numb1<=numb3:\n",
    "    print('\"',numb2,'\" è il numero più grande, \"',numb1,'\" è il numero più piccolo')"
   ]
  },
  {
   "cell_type": "code",
   "execution_count": null,
   "metadata": {},
   "outputs": [],
   "source": [
    "if numb2>=numb1 and numb2>=numb3 and numb3<=numb1:\n",
    "    print('\"',numb2,'\" è il numero più grande, \"',numb3,'\" è il numero più piccolo')"
   ]
  },
  {
   "cell_type": "code",
   "execution_count": 6,
   "metadata": {},
   "outputs": [
    {
     "name": "stdout",
     "output_type": "stream",
     "text": [
      "\" 3 \" è il numero più grande, \" 1 \" è il numero più piccolo\n"
     ]
    }
   ],
   "source": [
    "if numb3>=numb1 and numb3>=numb2 and numb1<=numb2:\n",
    "    print('\"',numb3,'\" è il numero più grande, \"',numb1,'\" è il numero più piccolo')"
   ]
  },
  {
   "cell_type": "code",
   "execution_count": null,
   "metadata": {},
   "outputs": [],
   "source": [
    "if numb3>=numb1 and numb3>=numb2 and numb2<=numb1:\n",
    "    print('\"',numb3,'\" è il numero più grande, \"',numb2,'\" è il numero più piccolo')"
   ]
  }
 ],
 "metadata": {
  "kernelspec": {
   "display_name": "Python 3",
   "language": "python",
   "name": "python3"
  },
  "language_info": {
   "codemirror_mode": {
    "name": "ipython",
    "version": 3
   },
   "file_extension": ".py",
   "mimetype": "text/x-python",
   "name": "python",
   "nbconvert_exporter": "python",
   "pygments_lexer": "ipython3",
   "version": "3.10.10"
  },
  "orig_nbformat": 4
 },
 "nbformat": 4,
 "nbformat_minor": 2
}
